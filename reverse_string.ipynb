{
 "cells": [
  {
   "cell_type": "code",
   "execution_count": 2,
   "metadata": {},
   "outputs": [
    {
     "name": "stdout",
     "output_type": "stream",
     "text": [
      "surivanoroC\n"
     ]
    }
   ],
   "source": [
    "#Python program to reverse a given string\n",
    "# Method 1\n",
    "\n",
    "def rev_string(word):\n",
    "    rev=\" \"\n",
    "    rev=word[::-1]\n",
    "    print(rev)\n",
    "    \n",
    "rev_string(\"Coronavirus\")"
   ]
  },
  {
   "cell_type": "code",
   "execution_count": 3,
   "metadata": {},
   "outputs": [
    {
     "name": "stdout",
     "output_type": "stream",
     "text": [
      "loow\n"
     ]
    }
   ],
   "source": [
    "# Method 2\n",
    "\n",
    "def rev_string(word):\n",
    "    rev_word=\"\"\n",
    "    for char in word:\n",
    "        rev_word=char+rev_word\n",
    "    print(rev_word)\n",
    "    \n",
    "rev_string(\"wool\")\n",
    "        "
   ]
  },
  {
   "cell_type": "code",
   "execution_count": 4,
   "metadata": {},
   "outputs": [
    {
     "data": {
      "text/plain": [
       "'!lrig a ma I'"
      ]
     },
     "execution_count": 4,
     "metadata": {},
     "output_type": "execute_result"
    }
   ],
   "source": [
    "#Method 3\n",
    "\n",
    "def rev_string(word):\n",
    "    rev_array=[]\n",
    "    for i in range((len(word))-1,-1,-1):\n",
    "        rev_array.append(word[i])\n",
    "    return \"\".join(rev_array)\n",
    "    \n",
    "rev_string(\"I am a girl!\")\n"
   ]
  }
 ],
 "metadata": {
  "kernelspec": {
   "display_name": "base",
   "language": "python",
   "name": "python3"
  },
  "language_info": {
   "codemirror_mode": {
    "name": "ipython",
    "version": 3
   },
   "file_extension": ".py",
   "mimetype": "text/x-python",
   "name": "python",
   "nbconvert_exporter": "python",
   "pygments_lexer": "ipython3",
   "version": "3.12.7"
  }
 },
 "nbformat": 4,
 "nbformat_minor": 2
}
