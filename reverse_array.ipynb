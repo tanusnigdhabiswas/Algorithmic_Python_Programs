{
 "cells": [
  {
   "cell_type": "code",
   "execution_count": null,
   "metadata": {},
   "outputs": [],
   "source": [
    "def array_reverse(myarray):\n",
    "    rev_array=[]\n",
    "    for i in range(len(myarray)-1,-1,-1):\n",
    "        rev_array.append(myarray[i])  \n",
    "    print(rev_array)\n",
    "    \n",
    "myarray=[\"apple\",\"banana\",\"cherry\",\"mango\"]\n",
    "reverse_array=array_reverse(myarray)\n",
    "\n",
    "print(myarray)"
   ]
  }
 ],
 "metadata": {
  "language_info": {
   "name": "python"
  }
 },
 "nbformat": 4,
 "nbformat_minor": 2
}
