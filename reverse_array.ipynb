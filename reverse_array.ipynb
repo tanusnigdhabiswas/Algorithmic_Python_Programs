{
 "cells": [
  {
   "cell_type": "code",
   "execution_count": 1,
   "metadata": {},
   "outputs": [
    {
     "name": "stdout",
     "output_type": "stream",
     "text": [
      "['mango', 'cherry', 'banana', 'apple']\n",
      "['apple', 'banana', 'cherry', 'mango']\n"
     ]
    }
   ],
   "source": [
    "def array_reverse(myarray):\n",
    "    rev_array=[]\n",
    "    for i in range(len(myarray)-1,-1,-1):\n",
    "        rev_array.append(myarray[i])  \n",
    "    print(rev_array)\n",
    "    \n",
    "myarray=[\"apple\",\"banana\",\"cherry\",\"mango\"]\n",
    "reverse_array=array_reverse(myarray)\n",
    "\n",
    "print(myarray)"
   ]
  }
 ],
 "metadata": {
  "kernelspec": {
   "display_name": "base",
   "language": "python",
   "name": "python3"
  },
  "language_info": {
   "codemirror_mode": {
    "name": "ipython",
    "version": 3
   },
   "file_extension": ".py",
   "mimetype": "text/x-python",
   "name": "python",
   "nbconvert_exporter": "python",
   "pygments_lexer": "ipython3",
   "version": "3.12.7"
  }
 },
 "nbformat": 4,
 "nbformat_minor": 2
}
