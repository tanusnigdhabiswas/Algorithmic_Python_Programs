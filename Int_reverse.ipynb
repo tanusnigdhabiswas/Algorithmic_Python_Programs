{
 "cells": [
  {
   "cell_type": "markdown",
   "metadata": {},
   "source": [
    "Write a program in Python to reverse a given integer"
   ]
  },
  {
   "cell_type": "code",
   "execution_count": 1,
   "metadata": {},
   "outputs": [
    {
     "name": "stdout",
     "output_type": "stream",
     "text": [
      "321\n"
     ]
    }
   ],
   "source": [
    "def int_rev(n):\n",
    "    rev=0\n",
    "    while n > 0:\n",
    "        rem=n % 10\n",
    "        rev= 10 * rev + rem\n",
    "        n=n // 10\n",
    "    print(rev)\n",
    "    \n",
    "int_rev(123)"
   ]
  },
  {
   "cell_type": "code",
   "execution_count": 1,
   "metadata": {},
   "outputs": [
    {
     "name": "stdout",
     "output_type": "stream",
     "text": [
      "8521\n"
     ]
    }
   ],
   "source": [
    "def int_rev(n):\n",
    "    rev=0\n",
    "    while n > 0:\n",
    "        rem=n % 10\n",
    "        rev= 10 * rev + rem\n",
    "        n=n // 10\n",
    "    print(rev)\n",
    "    \n",
    "int_rev(1258)"
   ]
  }
 ],
 "metadata": {
  "kernelspec": {
   "display_name": "base",
   "language": "python",
   "name": "python3"
  },
  "language_info": {
   "codemirror_mode": {
    "name": "ipython",
    "version": 3
   },
   "file_extension": ".py",
   "mimetype": "text/x-python",
   "name": "python",
   "nbconvert_exporter": "python",
   "pygments_lexer": "ipython3",
   "version": "3.12.7"
  }
 },
 "nbformat": 4,
 "nbformat_minor": 2
}
