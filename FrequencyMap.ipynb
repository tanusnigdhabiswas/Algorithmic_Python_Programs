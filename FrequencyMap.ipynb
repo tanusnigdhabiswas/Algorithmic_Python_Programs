{
 "cells": [
  {
   "cell_type": "code",
   "execution_count": 1,
   "metadata": {},
   "outputs": [
    {
     "data": {
      "text/plain": [
       "{'h': 2, 'e': 2, 'l': 4, 'o': 2}"
      ]
     },
     "execution_count": 1,
     "metadata": {},
     "output_type": "execute_result"
    }
   ],
   "source": [
    "#Python program to chcek the frequency of each characters in a given string \n",
    "\n",
    "def char_frequency(mystr):\n",
    "    mystr=mystr.lower()\n",
    "    frequency_map=dict()\n",
    "    \n",
    "    for char in mystr:\n",
    "        if char in frequency_map:\n",
    "            frequency_map[char] = frequency_map[char] + 1\n",
    "        else:\n",
    "            frequency_map[char] = 1\n",
    "            \n",
    "    return frequency_map\n",
    "        \n",
    "        \n",
    "        \n",
    "char_frequency(\"helloHELLO\")"
   ]
  },
  {
   "cell_type": "markdown",
   "metadata": {},
   "source": []
  }
 ],
 "metadata": {
  "kernelspec": {
   "display_name": "base",
   "language": "python",
   "name": "python3"
  },
  "language_info": {
   "codemirror_mode": {
    "name": "ipython",
    "version": 3
   },
   "file_extension": ".py",
   "mimetype": "text/x-python",
   "name": "python",
   "nbconvert_exporter": "python",
   "pygments_lexer": "ipython3",
   "version": "3.12.7"
  }
 },
 "nbformat": 4,
 "nbformat_minor": 2
}
