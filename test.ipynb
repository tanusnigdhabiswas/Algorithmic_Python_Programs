{
 "cells": [
  {
   "cell_type": "code",
   "execution_count": 120,
   "metadata": {},
   "outputs": [
    {
     "name": "stdout",
     "output_type": "stream",
     "text": [
      "                  I \n",
      "                 I   \n",
      "                I   l \n",
      "               I   l o \n",
      "              I   l o v \n",
      "             I   l o v e \n",
      "            I   l o v e   \n",
      "           I   l o v e   y \n",
      "          I   l o v e   y o \n",
      "         I   l o v e   y o u \n",
      "        I   l o v e   y o u   \n",
      "       I   l o v e   y o u   G \n",
      "      I   l o v e   y o u   G o \n",
      "     I   l o v e   y o u   G o u \n",
      "    I   l o v e   y o u   G o u r \n",
      "   I   l o v e   y o u   G o u r a \n",
      "  I   l o v e   y o u   G o u r a b \n"
     ]
    }
   ],
   "source": [
    "def str_pattern(mystr):\n",
    "\n",
    "    for i in range(0,len(mystr)):\n",
    "        mod_mystr=mystr[i]\n",
    "        print(\" \" * (len(mystr)-i), end=\" \")\n",
    "    \n",
    "        for j in range(i+1):\n",
    "            mystring=mystr[j]\n",
    "            print(mystring,end=\" \")\n",
    "        \n",
    "        print()\n",
    "\n",
    "\n",
    "str_pattern(\"I love you Gourab\")\n",
    "    "
   ]
  },
  {
   "cell_type": "code",
   "execution_count": 124,
   "metadata": {},
   "outputs": [
    {
     "name": "stdout",
     "output_type": "stream",
     "text": [
      "I \n",
      "I   \n",
      "I   l \n",
      "I   l o \n",
      "I   l o v \n",
      "I   l o v e \n",
      "I   l o v e   \n",
      "I   l o v e   y \n",
      "I   l o v e   y o \n",
      "I   l o v e   y o u \n",
      "I   l o v e   y o u   \n",
      "I   l o v e   y o u   G \n",
      "I   l o v e   y o u   G o \n",
      "I   l o v e   y o u   G o u \n",
      "I   l o v e   y o u   G o u r \n",
      "I   l o v e   y o u   G o u r a \n",
      "I   l o v e   y o u   G o u r a b \n"
     ]
    }
   ],
   "source": [
    "def str_pattern(mystr):\n",
    "\n",
    "    for i in range(0,len(mystr)):\n",
    "        mod_mystr=mystr[i]\n",
    "        #print(mod_mystr, end=\" \")\n",
    "    \n",
    "        for j in range(i+1):\n",
    "            mystring=mystr[j]\n",
    "            print(mystring,end=\" \")\n",
    "        \n",
    "        print()\n",
    "\n",
    "\n",
    "str_pattern(\"I love you Gourab\")\n",
    "    "
   ]
  },
  {
   "cell_type": "code",
   "execution_count": 127,
   "metadata": {},
   "outputs": [
    {
     "name": "stdout",
     "output_type": "stream",
     "text": [
      "1 \n",
      "1 2 \n",
      "1 2 3 \n",
      "1 2 3 4 \n",
      "1 2 3 4 5 \n",
      "1 2 3 4 5 6 \n",
      "1 2 3 4 5 6 7 \n",
      "1 2 3 4 5 6 7 8 \n"
     ]
    }
   ],
   "source": [
    "def num_pattern(n):\n",
    "\n",
    "    for i in range(1,n+1):\n",
    "        #print(\" \" * (n-i), end=\" \")\n",
    "        \n",
    "        for j in range(1,i+1):\n",
    "            print(j,end=\" \")\n",
    "        \n",
    "        print()\n",
    "\n",
    "\n",
    "num_pattern(8)"
   ]
  },
  {
   "cell_type": "code",
   "execution_count": 122,
   "metadata": {},
   "outputs": [
    {
     "name": "stdout",
     "output_type": "stream",
     "text": [
      "         0 \n",
      "        0 1 \n",
      "       0 1 2 \n",
      "      0 1 2 3 \n",
      "     0 1 2 3 4 \n",
      "    0 1 2 3 4 5 \n",
      "   0 1 2 3 4 5 6 \n",
      "  0 1 2 3 4 5 6 7 \n",
      " 0 1 2 3 4 5 6 7 8 \n"
     ]
    }
   ],
   "source": [
    "def num_pattern(n):\n",
    "\n",
    "    for i in range(0,n+1):\n",
    "        print(\" \" * (n-i), end=\" \")\n",
    "        \n",
    "        for j in range(0,i+1):\n",
    "            print(j,end=\" \")\n",
    "        \n",
    "        print()\n",
    "\n",
    "\n",
    "num_pattern(8)"
   ]
  },
  {
   "cell_type": "code",
   "execution_count": null,
   "metadata": {},
   "outputs": [],
   "source": []
  }
 ],
 "metadata": {
  "kernelspec": {
   "display_name": "base",
   "language": "python",
   "name": "python3"
  },
  "language_info": {
   "codemirror_mode": {
    "name": "ipython",
    "version": 3
   },
   "file_extension": ".py",
   "mimetype": "text/x-python",
   "name": "python",
   "nbconvert_exporter": "python",
   "pygments_lexer": "ipython3",
   "version": "3.12.7"
  }
 },
 "nbformat": 4,
 "nbformat_minor": 2
}
